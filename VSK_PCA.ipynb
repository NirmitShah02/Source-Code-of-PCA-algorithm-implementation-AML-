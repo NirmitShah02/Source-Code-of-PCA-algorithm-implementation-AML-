{
  "nbformat": 4,
  "nbformat_minor": 0,
  "metadata": {
    "kernelspec": {
      "display_name": "Python 3",
      "language": "python",
      "name": "python3"
    },
    "language_info": {
      "codemirror_mode": {
        "name": "ipython",
        "version": 3
      },
      "file_extension": ".py",
      "mimetype": "text/x-python",
      "name": "python",
      "nbconvert_exporter": "python",
      "pygments_lexer": "ipython3",
      "version": "3.8.5"
    },
    "colab": {
      "name": "VSK_PCA.ipynb",
      "provenance": []
    }
  },
  "cells": [
    {
      "cell_type": "markdown",
      "metadata": {
        "id": "gISSrFi7RpLG"
      },
      "source": [
        "### Implementation of Principle Component Analysis (PCA)\n",
        "### Objective --> To reduce dimensionality (features)\n",
        "\n",
        "### Author - Dr. Virendra Singh Kushwah"
      ]
    },
    {
      "cell_type": "code",
      "metadata": {
        "id": "TBOjPV7qRpLa",
        "outputId": "5dbc5c09-0762-4d19-92f9-e8b3da68c96e"
      },
      "source": [
        "# importing some libraries\n",
        "import numpy as np # for linear algebra\n",
        "import pandas as pd # data processing, CSV file I/O (e.g. pd.read_csv)\n",
        "import matplotlib.pyplot as plt # plotting the graph\n",
        "import seaborn as sns # It is used to display details in HeatMap\n",
        "%matplotlib inline # It defines that the plotted graph in inside notebook"
      ],
      "execution_count": null,
      "outputs": [
        {
          "output_type": "stream",
          "text": [
            "UsageError: unrecognized arguments: # It defines that the plotted graph in inside notebook\n"
          ],
          "name": "stderr"
        }
      ]
    },
    {
      "cell_type": "code",
      "metadata": {
        "id": "5-8i8PkFRpLf",
        "outputId": "1e660e65-ac9f-4859-b83f-998637075edf"
      },
      "source": [
        "#df=pd.read_csv('VSK_PCA.csv', usecols=['Math', 'English', 'Art']) #Replace it with your path where the data file is stored\n",
        "df=pd.read_csv('VSK_PCA.csv')\n",
        "df.head() # It will display only top 5 rows, but we have only five rows."
      ],
      "execution_count": null,
      "outputs": [
        {
          "output_type": "execute_result",
          "data": {
            "text/html": [
              "<div>\n",
              "<style scoped>\n",
              "    .dataframe tbody tr th:only-of-type {\n",
              "        vertical-align: middle;\n",
              "    }\n",
              "\n",
              "    .dataframe tbody tr th {\n",
              "        vertical-align: top;\n",
              "    }\n",
              "\n",
              "    .dataframe thead th {\n",
              "        text-align: right;\n",
              "    }\n",
              "</style>\n",
              "<table border=\"1\" class=\"dataframe\">\n",
              "  <thead>\n",
              "    <tr style=\"text-align: right;\">\n",
              "      <th></th>\n",
              "      <th>Student</th>\n",
              "      <th>Math</th>\n",
              "      <th>English</th>\n",
              "      <th>Art</th>\n",
              "    </tr>\n",
              "  </thead>\n",
              "  <tbody>\n",
              "    <tr>\n",
              "      <th>0</th>\n",
              "      <td>1</td>\n",
              "      <td>90</td>\n",
              "      <td>60</td>\n",
              "      <td>90</td>\n",
              "    </tr>\n",
              "    <tr>\n",
              "      <th>1</th>\n",
              "      <td>2</td>\n",
              "      <td>90</td>\n",
              "      <td>90</td>\n",
              "      <td>30</td>\n",
              "    </tr>\n",
              "    <tr>\n",
              "      <th>2</th>\n",
              "      <td>3</td>\n",
              "      <td>60</td>\n",
              "      <td>60</td>\n",
              "      <td>60</td>\n",
              "    </tr>\n",
              "    <tr>\n",
              "      <th>3</th>\n",
              "      <td>4</td>\n",
              "      <td>60</td>\n",
              "      <td>60</td>\n",
              "      <td>90</td>\n",
              "    </tr>\n",
              "    <tr>\n",
              "      <th>4</th>\n",
              "      <td>5</td>\n",
              "      <td>30</td>\n",
              "      <td>30</td>\n",
              "      <td>30</td>\n",
              "    </tr>\n",
              "  </tbody>\n",
              "</table>\n",
              "</div>"
            ],
            "text/plain": [
              "   Student  Math  English  Art\n",
              "0        1    90       60   90\n",
              "1        2    90       90   30\n",
              "2        3    60       60   60\n",
              "3        4    60       60   90\n",
              "4        5    30       30   30"
            ]
          },
          "metadata": {
            "tags": []
          },
          "execution_count": 2
        }
      ]
    },
    {
      "cell_type": "code",
      "metadata": {
        "id": "bGbWqbJvRpLh"
      },
      "source": [
        "# What are the algorithmic steps for PCA?\n",
        "# 1. Getting the data set\n",
        "# 2. Make dataset meaning that we need to choose only relavent features\n",
        "# 3. Standardized the data because of reduce the complexity for calculations\n",
        "# 4. Determine the covariance matrix\n",
        "# 5. Generate Eigen values and Eigen Vectors by using covariance matrix\n",
        "# 6. Sorting the Eigen Vectors\n",
        "# 7. Choose the Principle components\n",
        "# 8. Remove unnecessary features"
      ],
      "execution_count": null,
      "outputs": []
    },
    {
      "cell_type": "code",
      "metadata": {
        "id": "98sNnkWBRpLi",
        "outputId": "df4c972e-6631-4fd5-c5a0-4d38d91526ea"
      },
      "source": [
        "# Describe method describes the various values of dataset like min, max, std etc.\n",
        "df.describe()"
      ],
      "execution_count": null,
      "outputs": [
        {
          "output_type": "execute_result",
          "data": {
            "text/html": [
              "<div>\n",
              "<style scoped>\n",
              "    .dataframe tbody tr th:only-of-type {\n",
              "        vertical-align: middle;\n",
              "    }\n",
              "\n",
              "    .dataframe tbody tr th {\n",
              "        vertical-align: top;\n",
              "    }\n",
              "\n",
              "    .dataframe thead th {\n",
              "        text-align: right;\n",
              "    }\n",
              "</style>\n",
              "<table border=\"1\" class=\"dataframe\">\n",
              "  <thead>\n",
              "    <tr style=\"text-align: right;\">\n",
              "      <th></th>\n",
              "      <th>Student</th>\n",
              "      <th>Math</th>\n",
              "      <th>English</th>\n",
              "      <th>Art</th>\n",
              "    </tr>\n",
              "  </thead>\n",
              "  <tbody>\n",
              "    <tr>\n",
              "      <th>count</th>\n",
              "      <td>5.000000</td>\n",
              "      <td>5.000000</td>\n",
              "      <td>5.000000</td>\n",
              "      <td>5.0</td>\n",
              "    </tr>\n",
              "    <tr>\n",
              "      <th>mean</th>\n",
              "      <td>3.000000</td>\n",
              "      <td>66.000000</td>\n",
              "      <td>60.000000</td>\n",
              "      <td>60.0</td>\n",
              "    </tr>\n",
              "    <tr>\n",
              "      <th>std</th>\n",
              "      <td>1.581139</td>\n",
              "      <td>25.099801</td>\n",
              "      <td>21.213203</td>\n",
              "      <td>30.0</td>\n",
              "    </tr>\n",
              "    <tr>\n",
              "      <th>min</th>\n",
              "      <td>1.000000</td>\n",
              "      <td>30.000000</td>\n",
              "      <td>30.000000</td>\n",
              "      <td>30.0</td>\n",
              "    </tr>\n",
              "    <tr>\n",
              "      <th>25%</th>\n",
              "      <td>2.000000</td>\n",
              "      <td>60.000000</td>\n",
              "      <td>60.000000</td>\n",
              "      <td>30.0</td>\n",
              "    </tr>\n",
              "    <tr>\n",
              "      <th>50%</th>\n",
              "      <td>3.000000</td>\n",
              "      <td>60.000000</td>\n",
              "      <td>60.000000</td>\n",
              "      <td>60.0</td>\n",
              "    </tr>\n",
              "    <tr>\n",
              "      <th>75%</th>\n",
              "      <td>4.000000</td>\n",
              "      <td>90.000000</td>\n",
              "      <td>60.000000</td>\n",
              "      <td>90.0</td>\n",
              "    </tr>\n",
              "    <tr>\n",
              "      <th>max</th>\n",
              "      <td>5.000000</td>\n",
              "      <td>90.000000</td>\n",
              "      <td>90.000000</td>\n",
              "      <td>90.0</td>\n",
              "    </tr>\n",
              "  </tbody>\n",
              "</table>\n",
              "</div>"
            ],
            "text/plain": [
              "        Student       Math    English   Art\n",
              "count  5.000000   5.000000   5.000000   5.0\n",
              "mean   3.000000  66.000000  60.000000  60.0\n",
              "std    1.581139  25.099801  21.213203  30.0\n",
              "min    1.000000  30.000000  30.000000  30.0\n",
              "25%    2.000000  60.000000  60.000000  30.0\n",
              "50%    3.000000  60.000000  60.000000  60.0\n",
              "75%    4.000000  90.000000  60.000000  90.0\n",
              "max    5.000000  90.000000  90.000000  90.0"
            ]
          },
          "metadata": {
            "tags": []
          },
          "execution_count": 4
        }
      ]
    },
    {
      "cell_type": "code",
      "metadata": {
        "id": "LGD4CYrHRpLk",
        "outputId": "1c103534-4d66-4883-8552-cc5271b2ea5e"
      },
      "source": [
        "# How to determine that which features are correlated each others?\n",
        "# We have o use corr() method for dataframe.\n",
        "'''\n",
        "df.corr() compute pairwise correlation of columns.\n",
        "Correlation shows how the two variables are related to each other.\n",
        "Positive values shows as one variable increases other variable increases as well. \n",
        "Negative values shows as one variable increases other variable decreases.\n",
        "Bigger the values,more strongly two varibles are correlated and viceversa.\n",
        "'''\n",
        "df.corr()\n"
      ],
      "execution_count": null,
      "outputs": [
        {
          "output_type": "execute_result",
          "data": {
            "text/html": [
              "<div>\n",
              "<style scoped>\n",
              "    .dataframe tbody tr th:only-of-type {\n",
              "        vertical-align: middle;\n",
              "    }\n",
              "\n",
              "    .dataframe tbody tr th {\n",
              "        vertical-align: top;\n",
              "    }\n",
              "\n",
              "    .dataframe thead th {\n",
              "        text-align: right;\n",
              "    }\n",
              "</style>\n",
              "<table border=\"1\" class=\"dataframe\">\n",
              "  <thead>\n",
              "    <tr style=\"text-align: right;\">\n",
              "      <th></th>\n",
              "      <th>Student</th>\n",
              "      <th>Math</th>\n",
              "      <th>English</th>\n",
              "      <th>Art</th>\n",
              "    </tr>\n",
              "  </thead>\n",
              "  <tbody>\n",
              "    <tr>\n",
              "      <th>Student</th>\n",
              "      <td>1.000000</td>\n",
              "      <td>-0.944911</td>\n",
              "      <td>-0.670820</td>\n",
              "      <td>-0.316228</td>\n",
              "    </tr>\n",
              "    <tr>\n",
              "      <th>Math</th>\n",
              "      <td>-0.944911</td>\n",
              "      <td>1.000000</td>\n",
              "      <td>0.845154</td>\n",
              "      <td>0.298807</td>\n",
              "    </tr>\n",
              "    <tr>\n",
              "      <th>English</th>\n",
              "      <td>-0.670820</td>\n",
              "      <td>0.845154</td>\n",
              "      <td>1.000000</td>\n",
              "      <td>0.000000</td>\n",
              "    </tr>\n",
              "    <tr>\n",
              "      <th>Art</th>\n",
              "      <td>-0.316228</td>\n",
              "      <td>0.298807</td>\n",
              "      <td>0.000000</td>\n",
              "      <td>1.000000</td>\n",
              "    </tr>\n",
              "  </tbody>\n",
              "</table>\n",
              "</div>"
            ],
            "text/plain": [
              "          Student      Math   English       Art\n",
              "Student  1.000000 -0.944911 -0.670820 -0.316228\n",
              "Math    -0.944911  1.000000  0.845154  0.298807\n",
              "English -0.670820  0.845154  1.000000  0.000000\n",
              "Art     -0.316228  0.298807  0.000000  1.000000"
            ]
          },
          "metadata": {
            "tags": []
          },
          "execution_count": 5
        }
      ]
    },
    {
      "cell_type": "code",
      "metadata": {
        "scrolled": true,
        "id": "aiFKFSfaRpLl",
        "outputId": "940233b1-f54c-445a-f81f-fe0dc18b4864"
      },
      "source": [
        "# If you are choosing positive coorelation values, it means columns are having positive correlation.\n",
        "\n",
        "# The variable will keep the correlation values and based on the values\n",
        "# which are generated by this correlation variable\n",
        "\n",
        "# Let us understand concept via Graph Visualization\n",
        "correlation = df.corr()\n",
        "plt.figure(figsize=(5,5))\n",
        "\n",
        "# we are using heatmap graph to show the values in heat term w.r.t the values of correlated.\n",
        "sns.heatmap(correlation, vmax=1, square=True, annot=True, cmap='viridis')\n",
        "\n",
        "plt.title('Correlation between different fearures')"
      ],
      "execution_count": null,
      "outputs": [
        {
          "output_type": "execute_result",
          "data": {
            "text/plain": [
              "Text(0.5, 1.0, 'Correlation between different fearures')"
            ]
          },
          "metadata": {
            "tags": []
          },
          "execution_count": 6
        },
        {
          "output_type": "display_data",
          "data": {
            "image/png": "[encoded data removed]",
            "text/plain": [
              "<Figure size 360x360 with 2 Axes>"
            ]
          },
          "metadata": {
            "tags": [],
            "needs_background": "light"
          }
        }
      ]
    },
    {
      "cell_type": "code",
      "metadata": {
        "id": "KKoAvQhDRpLn",
        "outputId": "9d0fdc77-1d62-45ea-90d9-1c3273fad6dc"
      },
      "source": [
        "# Determining important features in terms of X \n",
        "# As we know Math, English and Art are the our important features to understand the concept.\n",
        "# All features will be represented by X as independent variables.\n",
        "\n",
        "X = df.iloc[:,1:4].values # 1-Math, 2-English, 3-Art \n",
        "X\n",
        "# If you remember numerical portion where X is equivalent to A [] matrix."
      ],
      "execution_count": null,
      "outputs": [
        {
          "output_type": "execute_result",
          "data": {
            "text/plain": [
              "array([[90, 60, 90],\n",
              "       [90, 90, 30],\n",
              "       [60, 60, 60],\n",
              "       [60, 60, 90],\n",
              "       [30, 30, 30]], dtype=int64)"
            ]
          },
          "metadata": {
            "tags": []
          },
          "execution_count": 8
        }
      ]
    },
    {
      "cell_type": "code",
      "metadata": {
        "id": "AuDAKkIxRpLp",
        "outputId": "20860c71-5710-4326-8bc2-3c0b6b2aa6bf"
      },
      "source": [
        "# size of the X \n",
        "np.shape(X)"
      ],
      "execution_count": null,
      "outputs": [
        {
          "output_type": "execute_result",
          "data": {
            "text/plain": [
              "(5, 3)"
            ]
          },
          "metadata": {
            "tags": []
          },
          "execution_count": 9
        }
      ]
    },
    {
      "cell_type": "code",
      "metadata": {
        "id": "OkAprYEaRpLr",
        "outputId": "7b10b381-44b6-4048-c26d-ffe256ee64fe"
      },
      "source": [
        "# So far we have observed that we have large values in X due to we have selected all features.\n",
        "# And to simplify the calculations, we need to transform the values in a standard way \n",
        "# for easy calculations\n",
        "\n",
        "# For doing this we need to use StandardScaler class from preprocessing library by sklearn package.\n",
        "# If you remember the step-3 of the algorithm.\n",
        "from sklearn.preprocessing import StandardScaler\n",
        "\n",
        "X_std = StandardScaler().fit_transform(X) #passing the values of X\n",
        "print (X) # original X values\n",
        "print (X_std) # standardized values\n",
        "\n",
        "# The formula can be used as mentioned below:-\n",
        "# standard scaler value is calculated by mean and standard deviation.\n",
        "# y = (x – mean) / standard_deviation\n",
        "\n",
        "# y means new value of the X"
      ],
      "execution_count": null,
      "outputs": [
        {
          "output_type": "stream",
          "text": [
            "[[90 60 90]\n",
            " [90 90 30]\n",
            " [60 60 60]\n",
            " [60 60 90]\n",
            " [30 30 30]]\n",
            "[[ 1.06904497  0.          1.11803399]\n",
            " [ 1.06904497  1.58113883 -1.11803399]\n",
            " [-0.26726124  0.          0.        ]\n",
            " [-0.26726124  0.          1.11803399]\n",
            " [-1.60356745 -1.58113883 -1.11803399]]\n"
          ],
          "name": "stdout"
        }
      ]
    },
    {
      "cell_type": "code",
      "metadata": {
        "id": "hpheHWYaRpLt",
        "outputId": "a4e1b0f1-c086-4f12-f991-e3b74f70dc06"
      },
      "source": [
        "# Now it is time to calculate mean of the vectors towards the X_std variable\n",
        "# because for covariance matrix, we must have covariance and for covariance we must have variance\n",
        "# and last for variance we must have mean w.r.t to the vectors.\n",
        "\n",
        "# covariance matrix <-- covarinace <-- variance <-- mean\n",
        "\n",
        "# Before calculating co-variance matrix, first we must have mean vector\n",
        "\n",
        "mean_vec = np.mean(X_std, axis=0) # axis=o means we need to calculate mean of the columns\n",
        "#mean_vec = np.mean(X, axis=0)\n",
        "print (mean_vec)"
      ],
      "execution_count": null,
      "outputs": [
        {
          "output_type": "stream",
          "text": [
            "[4.4408921e-17 0.0000000e+00 0.0000000e+00]\n"
          ],
          "name": "stdout"
        }
      ]
    },
    {
      "cell_type": "code",
      "metadata": {
        "id": "w9_oVsVnRpLu",
        "outputId": "78b905e5-1965-4cef-bd65-127b3c372b87"
      },
      "source": [
        "print (X_std.shape[0]) # It defines that total number of data i.e; n value\n",
        "n=X_std.shape[0]\n",
        "print (n)"
      ],
      "execution_count": null,
      "outputs": [
        {
          "output_type": "stream",
          "text": [
            "5\n",
            "5\n"
          ],
          "name": "stdout"
        }
      ]
    },
    {
      "cell_type": "code",
      "metadata": {
        "id": "3yGF3aKbRpLv",
        "outputId": "5b95f9e9-d9ab-4a0b-b540-625914de7bd9"
      },
      "source": [
        "# After calculating mean vector, we need to calculate co-variance matrix\n",
        "\n",
        "cov_mat = (X_std - mean_vec).T.dot((X_std - mean_vec)) / (n-1)\n",
        "\n",
        "# Where T means transpose of the matrix\n",
        "\n",
        "# (X_std - mean_vec).T.dot((X_std - mean_vec))\n",
        "# The above statement is doing calculation between (x_std - mean_vec) and its transpose \n",
        "# in terms of matrices by multiplication\n",
        "print('Covariance matrix \\n%s' %cov_mat)\n",
        "\n",
        "# As we have discussed co-variance matrix would be square matrix\n",
        "# why we are getting 3 x 3 matrix , because of 3 features are used. \n",
        "\n",
        "# This is the end of the step-4 from algorithm."
      ],
      "execution_count": null,
      "outputs": [
        {
          "output_type": "stream",
          "text": [
            "Covariance matrix \n",
            "[[1.25000000e+00 1.05644282e+00 3.73508940e-01]\n",
            " [1.05644282e+00 1.25000000e+00 2.52510716e-17]\n",
            " [3.73508940e-01 2.52510716e-17 1.25000000e+00]]\n"
          ],
          "name": "stdout"
        }
      ]
    },
    {
      "cell_type": "code",
      "metadata": {
        "id": "gvR5ZXQxRpLx",
        "outputId": "74659d75-5a33-4260-cc67-ea8c3c76dc71"
      },
      "source": [
        "# print transpose of the co-variance matrix\n",
        "print('NumPy covariance matrix: \\n%s' %np.cov(X_std.T))\n",
        "\n",
        "# With the help of cov () method from numpy library you can get the covariance matrix.\n",
        "\n",
        "# After getting transpose of the matrix, we are getting the original co-variance matrix.\n",
        "# It means transpose of the covariance matrix must be same as original covariance matrix."
      ],
      "execution_count": null,
      "outputs": [
        {
          "output_type": "stream",
          "text": [
            "NumPy covariance matrix: \n",
            "[[1.25000000e+00 1.05644282e+00 3.73508940e-01]\n",
            " [1.05644282e+00 1.25000000e+00 2.52510716e-17]\n",
            " [3.73508940e-01 2.52510716e-17 1.25000000e+00]]\n"
          ],
          "name": "stdout"
        }
      ]
    },
    {
      "cell_type": "code",
      "metadata": {
        "id": "K-u50rMeRpLy",
        "outputId": "708a9e83-adc5-4683-ac2d-8ccb6cdd6efa"
      },
      "source": [
        "# Now we need to determine the Eigen Vectors and Eigen Values\n",
        "# This is the step-5 as algorithm.\n",
        "\n",
        "# for doing this, we have to use eig() method from numpy library\n",
        "# eig() method is a part of linear algebra class.\n",
        "\n",
        "eig_vals, eig_vecs = np.linalg.eig(cov_mat) # we just need to pass only covariance matrix variable.\n",
        "\n",
        "# If you remember numerical part of this code, we got the determinant value of the following equation\n",
        "# det(A-lambda*I)\n",
        "# A was covarinace matrix and I was identity matrix\n",
        "# lambda was eigen value\n",
        "\n",
        "print('Eigen Vectors \\n%s' %eig_vecs)\n",
        "print('\\nEigen Values \\n%s' %eig_vals)"
      ],
      "execution_count": null,
      "outputs": [
        {
          "output_type": "stream",
          "text": [
            "Eigen Vectors \n",
            "[[ 7.07106781e-01  7.07106781e-01 -1.98160901e-16]\n",
            " [ 6.66666667e-01 -6.66666667e-01 -3.33333333e-01]\n",
            " [ 2.35702260e-01 -2.35702260e-01  9.42809042e-01]]\n",
            "\n",
            "Eigen Values \n",
            "[2.37052682 0.12947318 1.25      ]\n"
          ],
          "name": "stdout"
        }
      ]
    },
    {
      "cell_type": "code",
      "metadata": {
        "id": "WuEOoIGbRpLz",
        "outputId": "ec5d8dde-d309-4cfe-bb36-61777cb19a2a"
      },
      "source": [
        "# Make a list of (eigen value, eigen vector) tuples\n",
        "# Here eig_pairs is variable which contain the pair values of both eigen value and eigen vectors\n",
        "\n",
        "eig_pairs = [(np.abs(eig_vals[i]), eig_vecs[:,i]) for i in range(len(eig_vals))]\n",
        "# with the help of list comprehensive method we can make a pair of eigen vector and eigen value\n",
        "\n",
        "# Sort the (eigen value, eigen vector) tuples from high to low\n",
        "eig_pairs.sort(key=lambda x: x[0], reverse=True) # descending value will come first\n",
        "# key=lamda is applicable when we need to sort the elements which are in a pair.\n",
        "\n",
        "# Visually confirm that the list is correctly sorted by decreasing eigen values\n",
        "print('Eigen values in descending order:')\n",
        "for i in eig_pairs:\n",
        "    print(i[0])"
      ],
      "execution_count": null,
      "outputs": [
        {
          "output_type": "stream",
          "text": [
            "Eigen values in descending order:\n",
            "2.3705268212509942\n",
            "1.2500000000000002\n",
            "0.12947317874900577\n"
          ],
          "name": "stdout"
        }
      ]
    },
    {
      "cell_type": "code",
      "metadata": {
        "id": "OIMckHITRpL2",
        "outputId": "dd534a2d-b719-4a30-a99e-b8eab7f4ffe5"
      },
      "source": [
        "# Here we are calculating \"explained variance\" with help of our calculated eigen values\n",
        "\n",
        "tot = sum(eig_vals)\n",
        "var_exp = [(i / tot)*100 for i in sorted(eig_vals, reverse=True)]\n",
        "print (var_exp) # explained variance\n",
        "\n",
        "# The explained variance will determine \n",
        "# that howmany components you will like to choose to reduce dimensionality.\n",
        "# As we know that 3 features are using for computing, we must opt atleant one less features.\n",
        "# You can choose 2 or 1 feature to reduce dimensionality.\n",
        "\n",
        "# Suppose you are selecting 5 feature as a initial level.\n",
        "# so at this moment you can opt 4,3,2 components to reduce dimensionality.\n"
      ],
      "execution_count": null,
      "outputs": [
        {
          "output_type": "stream",
          "text": [
            "[63.21404856669318, 33.333333333333336, 3.4526180999734875]\n"
          ],
          "name": "stdout"
        }
      ]
    },
    {
      "cell_type": "code",
      "metadata": {
        "id": "bNS1LVcNRpL4",
        "outputId": "13f758e6-d2e5-4df1-ab23-b7bb5553b703"
      },
      "source": [
        "with plt.style.context('dark_background'):\n",
        "    plt.figure(figsize=(5, 5))\n",
        "\n",
        "    plt.bar(range(3), var_exp, alpha=0.5, align='center',\n",
        "            label='individual explained variance')\n",
        "    plt.ylabel('Explained variance ratio')\n",
        "    plt.xlabel('Principal components')\n",
        "    plt.legend(loc='best')\n",
        "    plt.tight_layout()"
      ],
      "execution_count": null,
      "outputs": [
        {
          "output_type": "display_data",
          "data": {
            "image/png": "[encoded data removed]",
            "text/plain": [
              "<Figure size 360x360 with 1 Axes>"
            ]
          },
          "metadata": {
            "tags": []
          }
        }
      ]
    },
    {
      "cell_type": "code",
      "metadata": {
        "id": "F0EFNE11RpL5",
        "outputId": "692c101c-daa0-42ed-f840-408cd232b044"
      },
      "source": [
        "# here we are choosing only two components after having see the above graph, which shows that only \n",
        "# two components are sufficient to solve your problem\n",
        "# for doing next step, we need to opt only top two eigen values.\n",
        "\n",
        "#eig_pairs[0][1] = 2.73 # as we have seen above\n",
        "#eig_pairs[1][1] = 1.25\n",
        "\n",
        "# Here we need to pass only eigen pairs for eigen value 2.73 and 1.25 those are top two values.\n",
        "matrix_w = np.hstack((eig_pairs[0][1].reshape(3,1), \n",
        "                      eig_pairs[1][1].reshape(3,1)\n",
        "                    ))\n",
        "print('Matrix W:\\n', matrix_w)\n",
        "\n",
        "# if you remember co-variance matrix was 3 x 3 (Square matrix)\n",
        "# while here we are getting our W matrix i.e; 3 x 2 (d x k size where d is the dimension and k is the eigen vectors)\n",
        "\n",
        "# As we know 3-features means you are on the 3D surface.\n",
        "# But now selecting 2 components you are on the 2D sub-surface.\n",
        "# So we will have tranformed values.\n",
        "\n",
        "# we are reducing the dimension of the selected feaures on 2D sub-surface from 3D surface. \n",
        "# Here you can obsersed we have selected only two components as a feaures for solving your problem.\n",
        "\n",
        "# This is step-7 as per algorithm."
      ],
      "execution_count": null,
      "outputs": [
        {
          "output_type": "stream",
          "text": [
            "Matrix W:\n",
            " [[ 7.07106781e-01 -1.98160901e-16]\n",
            " [ 6.66666667e-01 -3.33333333e-01]\n",
            " [ 2.35702260e-01  9.42809042e-01]]\n"
          ],
          "name": "stdout"
        }
      ]
    },
    {
      "cell_type": "code",
      "metadata": {
        "id": "U2ojFMiPRpMA",
        "outputId": "34a89608-dbc8-4a6a-a0ae-7b960900381d"
      },
      "source": [
        "# you can multiply your w (3,2) matrix with x_std (3,3)\n",
        "# and update y variable\n",
        "# previously y was (5,1)\n",
        "Y = X_std.dot(matrix_w)\n",
        "Y # it provides the origianal size (actual dataset size = 5) of the matrix towards the w matrix \n",
        "# which is the resulatant matrix of the components.\n",
        "# So size would be 2 x 5 where 2 means componets and 5 means total number of the data.\n",
        "\n",
        "# This is step-8 as per algorithm.\n",
        "\n",
        "# Do not have any confusion all the values are transformed values.\n"
      ],
      "execution_count": null,
      "outputs": [
        {
          "output_type": "execute_result",
          "data": {
            "text/plain": [
              "array([[ 1.01945208e+00,  1.05409255e+00],\n",
              "       [ 1.54649836e+00, -1.58113883e+00],\n",
              "       [-1.88982237e-01,  5.29607286e-17],\n",
              "       [ 7.45409018e-02,  1.05409255e+00],\n",
              "       [-2.45150911e+00, -5.27046277e-01]])"
            ]
          },
          "metadata": {
            "tags": []
          },
          "execution_count": 24
        }
      ]
    },
    {
      "cell_type": "code",
      "metadata": {
        "id": "0HRHhoHQRpMC",
        "outputId": "94f3b821-8597-4030-9588-ef4e715edc1f"
      },
      "source": [
        "Y.shape\n",
        "# it is showing that you have chosen two features."
      ],
      "execution_count": null,
      "outputs": [
        {
          "output_type": "execute_result",
          "data": {
            "text/plain": [
              "(5, 2)"
            ]
          },
          "metadata": {
            "tags": []
          },
          "execution_count": 25
        }
      ]
    },
    {
      "cell_type": "code",
      "metadata": {
        "id": "kyUcGU8XRpMC",
        "outputId": "05eb8724-275d-4974-c831-733671559d20"
      },
      "source": [
        "# You have seen each and every step of ths PCA algorithm.\n",
        "\n",
        "# You can easily use a class to get the componets in a simple way.\n",
        "\n",
        "from sklearn.decomposition import PCA\n",
        "# we have to import PCA class from decomposition library from sklearn package.\n",
        "\n",
        "# we need to fit the model towards the x_std variables.\n",
        "pca = PCA().fit(X_std) # x_std will have the features in form of standardized form.\n",
        "\n",
        "print (\"Explained Variance: \")\n",
        "print (100*pca.explained_variance_ratio_)\n"
      ],
      "execution_count": null,
      "outputs": [
        {
          "output_type": "stream",
          "text": [
            "Explained Variance: \n",
            "[63.21404857 33.33333333  3.4526181 ]\n"
          ],
          "name": "stdout"
        }
      ]
    },
    {
      "cell_type": "code",
      "metadata": {
        "id": "zi9rLlhaRpME",
        "outputId": "9778f56a-542e-4efa-b62b-9a72fd57a307"
      },
      "source": [
        "with plt.style.context('dark_background'):\n",
        "    plt.figure(figsize=(5, 5))\n",
        "\n",
        "    plt.bar(range(3), 100*pca.explained_variance_ratio_, alpha=0.5, align='center',\n",
        "            label='individual explained variance')\n",
        "    plt.ylabel('Explained variance ratio')\n",
        "    plt.xlabel('Principal components')\n",
        "    plt.legend(loc='best')\n",
        "    plt.tight_layout()"
      ],
      "execution_count": null,
      "outputs": [
        {
          "output_type": "display_data",
          "data": {
            "image/png": "[encoded data removed]",
            "text/plain": [
              "<Figure size 360x360 with 1 Axes>"
            ]
          },
          "metadata": {
            "tags": []
          }
        }
      ]
    },
    {
      "cell_type": "code",
      "metadata": {
        "id": "z2s4nocHRpMG"
      },
      "source": [
        ""
      ],
      "execution_count": null,
      "outputs": []
    }
  ]
}